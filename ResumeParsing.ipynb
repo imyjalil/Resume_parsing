{
 "cells": [
  {
   "cell_type": "code",
   "execution_count": 2,
   "metadata": {},
   "outputs": [
    {
     "name": "stdout",
     "output_type": "stream",
     "text": [
      "Email id:jdoe56@kent.edu\n",
      "phone No:330-602-9765\n",
      "Address:1350 Petrarca Drive Kent, Ohio 44243\n",
      "Name:JOHN DOE\n"
     ]
    }
   ],
   "source": [
    "import tika\n",
    "from tika import parser\n",
    "import re\n",
    "class ResumeParsing:\n",
    "    def parseEmail():\n",
    "        tika.initVM()\n",
    "        parsed = parser.from_file(\"Basic Sample Resume.docx\")\n",
    "        regular_expression = re.compile(r\"[A-Z0-9._%+-]+@[A-Z0-9.-]+\\.[A-Z]{2,4}\", re.IGNORECASE)\n",
    "        result = re.search(regular_expression,parsed[\"content\"])\n",
    "        print(\"Email id:\"+result.group())\n",
    "    def parsePhone():\n",
    "        tika.initVM()\n",
    "        parsed = parser.from_file(\"Basic Sample Resume.docx\")\n",
    "        regular_expression = re.compile(r\"\\d{3}-\\d{3}-\\d{4}\")\n",
    "        result = re.search(regular_expression,parsed[\"content\"])\n",
    "        print(\"phone No:\"+result.group())\n",
    "    def parseAddress():\n",
    "        tika.initVM()\n",
    "        parsed = parser.from_file(\"Basic Sample Resume.docx\")\n",
    "        regular_expression = re.compile(r\"[0-9]{1,4}\\ [\\w\\s]+\\, [\\w]+\\ [0-9]{1,5}\", re.IGNORECASE)\n",
    "        result = re.search(regular_expression,parsed[\"content\"])\n",
    "        print(\"Address:\"+result.group())\n",
    "    def parseName():\n",
    "        tika.initVM()\n",
    "        parsed = parser.from_file(\"Basic Sample Resume.docx\")\n",
    "        regular_expression = re.compile(r\"[\\w]+\\s[\\w]+\", re.IGNORECASE)\n",
    "        result = re.search(regular_expression,parsed[\"content\"])\n",
    "        print(\"Name:\"+result.group())\n",
    "ResumeParsing.parseEmail()\n",
    "ResumeParsing.parsePhone()\n",
    "ResumeParsing.parseAddress()\n",
    "ResumeParsing.parseName()"
   ]
  },
  {
   "cell_type": "code",
   "execution_count": null,
   "metadata": {},
   "outputs": [],
   "source": []
  },
  {
   "cell_type": "code",
   "execution_count": null,
   "metadata": {},
   "outputs": [],
   "source": []
  },
  {
   "cell_type": "code",
   "execution_count": null,
   "metadata": {},
   "outputs": [],
   "source": []
  },
  {
   "cell_type": "code",
   "execution_count": null,
   "metadata": {},
   "outputs": [],
   "source": []
  },
  {
   "cell_type": "code",
   "execution_count": null,
   "metadata": {
    "collapsed": true
   },
   "outputs": [],
   "source": []
  }
 ],
 "metadata": {
  "kernelspec": {
   "display_name": "Python 3",
   "language": "python",
   "name": "python3"
  },
  "language_info": {
   "codemirror_mode": {
    "name": "ipython",
    "version": 3
   },
   "file_extension": ".py",
   "mimetype": "text/x-python",
   "name": "python",
   "nbconvert_exporter": "python",
   "pygments_lexer": "ipython3",
   "version": "3.6.2"
  }
 },
 "nbformat": 4,
 "nbformat_minor": 2
}
